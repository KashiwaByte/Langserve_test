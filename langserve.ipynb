{
 "cells": [
  {
   "cell_type": "code",
   "execution_count": 13,
   "metadata": {},
   "outputs": [
    {
     "data": {
      "text/plain": [
       "{'output': '2023年英雄联盟S赛冠军是T1战队。',\n",
       " 'intermediate_steps': [[AgentAction(tool='Search', tool_input=\"'2023英雄联盟S赛冠军'\", log=\" 我应该思考如何获得正确的答案\\nAction: Search\\nAction Input: '2023英雄联盟S赛冠军'\"),\n",
       "   '2023英雄联盟全球总决2023年10月10日至11月19日在韩国举办的以《 英雄联盟 》为比赛项目的国际电子竞技赛事。 2023年11月19日，由LCK赛区的T1战队3:0战胜LPL赛区的WBG战队夺得本次全球总决赛冠军 ， Zeus 夺得FMVP 。']]}"
      ]
     },
     "execution_count": 13,
     "metadata": {},
     "output_type": "execute_result"
    }
   ],
   "source": [
    "from langserve import RemoteRunnable\n",
    "ask='英雄联盟界的GOAT是谁'\n",
    "chain = RemoteRunnable(\"http://localhost:8000/agent/c/N4XyA\")\n",
    "chain.invoke({\n",
    "  \"input\": {\n",
    "    \"input\": \"2023英雄联盟S赛冠军是哪只战队\"\n",
    "  },\n",
    "  \"config\": {},\n",
    "  \"kwargs\": {}\n",
    "})"
   ]
  },
  {
   "cell_type": "code",
   "execution_count": 14,
   "metadata": {},
   "outputs": [
    {
     "data": {
      "text/plain": [
       "{'output': '英雄联盟界的GOAT是Faker。',\n",
       " 'intermediate_steps': [[AgentAction(tool='Search', tool_input=\"'英雄联盟界的GOAT是谁'\", log=\" 我应该搜索一下这个问题\\nAction: Search\\nAction Input: '英雄联盟界的GOAT是谁'\"),\n",
       "   '[\\'GOAT，顾名思义，Greatest of All Time（历史最佳）。. 随着詹姆斯愈老愈妖，他与乔丹的GOAT之争愈演愈烈。. 什么是GOAT？. 老詹自封历史最佳，乔丹：这是对传奇的不尊重！. 人常说：不想当将军的士兵不是好士兵。. 在NBA这片战场，想当超级球星 …\\', \\'We’ve got you covered. Lee Sang-hyeok is widely considered one of the greatest League of Legends players of all time. With news that Razer is partnering with the GOAT to produce his own line of peripherals, including mice, mousepads, and cell phone cases, Esports.gg is looking back at his career and finding seven of the most interesting …\\', \\'Web他在板球盛行的英联邦国家影响巨大，有研究者通过标准偏差计算，认为他的主要数据高于其他球类运动goat，如他的场均得分难度相当于篮球运动员场均得43分，因此认为他是球类运动goat中的goat。\\', \\'GOAT，Greatest Of All Time（历史最伟大），是一个项目中对于一名运动的至臻褒奖。 然而因为近年来NBA的火爆，特别是媒体的渲染，似乎这成了NBA的专属名词，但如果将他的维度拉高，你会发现在他之外还有一个FIBA世界。\\', \"WebGOAT has a lot of factors to consider, highest peak, consistency and achievements. Rookie\\'s achievements aren\\'t special, like he\\'s won less titles than ShowMaker. The gap between Faker and Rookie in the goat conversation is MASSIVE. Rookie isn\\'t even the goat of the LPL let alone league.\", \\'WebGOAT之争极其激烈的五大体育项目. 浪斌. Always day 1. GOAT，即Greatest of all time，意为历史最佳。. 在体育领域之中，该词汇时常被用来指代对应项目的历史第一人。. 能在GOAT上坐稳，意味着该选手的伟大程度远远超越了其余好手。. 在不少热门项目之中，GOAT是暂且 ...\\', \\'GOAT（ Greatest Of All Time ）是近期大家關注的名詞，代表著史上最偉大球員之意，隨著時代的演進，有無數扛起球隊勝敗重任於一身的知名球星足以擠進 GOAT 候選之列，而最為人信服的，莫過於「籃球之神」 Michael Jordan 。. Jordan 是 90 年代制霸 NBA 的超級巨星，手握 ...\\', \\'WebHowever, you can not deny that Faker is THE GOAT of League of Legends. This man is the Babe Ruth, The Michael Jordan, The Lionel Messi, The Tom Brady of league of legends. Faker started in his first match in season 3, AND WON WORLDS. They didn’t make it to worlds in season 4, however they did WIN THE NEXT TWO YEARS.\\', \\'Web而在勒布朗的世界中，超越乔丹成为“goat”，绝不只是冠军数量的问题。比乔丹冠军多的球员一大把，比乔丹得分多的人也不是没有。要超越乔丹，他必须累积惊人的社会影响力和商业能量。\\']'],\n",
       "  [AgentAction(tool='Search', tool_input=\"'英雄联盟界的GOAT是谁'\", log=\" 我应该把这些观察结果综合起来，找出最后的答案\\nAction: Search\\nAction Input: '英雄联盟界的GOAT是谁'\"),\n",
       "   '[\\'GOAT，顾名思义，Greatest of All Time（历史最佳）。. 随着詹姆斯愈老愈妖，他与乔丹的GOAT之争愈演愈烈。. 什么是GOAT？. 老詹自封历史最佳，乔丹：这是对传奇的不尊重！. 人常说：不想当将军的士兵不是好士兵。. 在NBA这片战场，想当超级球星 …\\', \\'We’ve got you covered. Lee Sang-hyeok is widely considered one of the greatest League of Legends players of all time. With news that Razer is partnering with the GOAT to produce his own line of peripherals, including mice, mousepads, and cell phone cases, Esports.gg is looking back at his career and finding seven of the most interesting …\\', \\'Web他在板球盛行的英联邦国家影响巨大，有研究者通过标准偏差计算，认为他的主要数据高于其他球类运动goat，如他的场均得分难度相当于篮球运动员场均得43分，因此认为他是球类运动goat中的goat。\\', \\'GOAT，Greatest Of All Time（历史最伟大），是一个项目中对于一名运动的至臻褒奖。 然而因为近年来NBA的火爆，特别是媒体的渲染，似乎这成了NBA的专属名词，但如果将他的维度拉高，你会发现在他之外还有一个FIBA世界。\\', \"WebGOAT has a lot of factors to consider, highest peak, consistency and achievements. Rookie\\'s achievements aren\\'t special, like he\\'s won less titles than ShowMaker. The gap between Faker and Rookie in the goat conversation is MASSIVE. Rookie isn\\'t even the goat of the LPL let alone league.\", \\'WebGOAT之争极其激烈的五大体育项目. 浪斌. Always day 1. GOAT，即Greatest of all time，意为历史最佳。. 在体育领域之中，该词汇时常被用来指代对应项目的历史第一人。. 能在GOAT上坐稳，意味着该选手的伟大程度远远超越了其余好手。. 在不少热门项目之中，GOAT是暂且 ...\\', \\'GOAT（ Greatest Of All Time ）是近期大家關注的名詞，代表著史上最偉大球員之意，隨著時代的演進，有無數扛起球隊勝敗重任於一身的知名球星足以擠進 GOAT 候選之列，而最為人信服的，莫過於「籃球之神」 Michael Jordan 。. Jordan 是 90 年代制霸 NBA 的超級巨星，手握 ...\\', \\'WebHowever, you can not deny that Faker is THE GOAT of League of Legends. This man is the Babe Ruth, The Michael Jordan, The Lionel Messi, The Tom Brady of league of legends. Faker started in his first match in season 3, AND WON WORLDS. They didn’t make it to worlds in season 4, however they did WIN THE NEXT TWO YEARS.\\', \\'Web而在勒布朗的世界中，超越乔丹成为“goat”，绝不只是冠军数量的问题。比乔丹冠军多的球员一大把，比乔丹得分多的人也不是没有。要超越乔丹，他必须累积惊人的社会影响力和商业能量。\\']']]}"
      ]
     },
     "execution_count": 14,
     "metadata": {},
     "output_type": "execute_result"
    }
   ],
   "source": [
    "from langserve import RemoteRunnable\n",
    "ask='英雄联盟界的GOAT是谁'\n",
    "chain = RemoteRunnable(\"http://localhost:8000/agent/c/N4XyA\")\n",
    "chain.invoke({\n",
    "  \"input\": {\n",
    "    \"input\": ask\n",
    "  },\n",
    "  \"config\": {},\n",
    "  \"kwargs\": {}\n",
    "})"
   ]
  },
  {
   "cell_type": "code",
   "execution_count": 15,
   "metadata": {},
   "outputs": [
    {
     "name": "stdout",
     "output_type": "stream",
     "text": [
      "{'output': '李尚禹（Lee Sang-hyeok）被普遍认为是英雄联盟界有史以来最伟大的玩家之一。', 'intermediate_steps': [[AgentAction(tool='Search', tool_input=\"'英雄联盟界的GOAT是谁'\", log=\" 我应该搜索一下这个问题\\nAction: Search\\nAction Input: '英雄联盟界的GOAT是谁'\"), '[\\'GOAT，顾名思义，Greatest of All Time（历史最佳）。. 随着詹姆斯愈老愈妖，他与乔丹的GOAT之争愈演愈烈。. 什么是GOAT？. 老詹自封历史最佳，乔丹：这是对传奇的不尊重！. 人常说：不想当将军的士兵不是好士兵。. 在NBA这片战场，想当超级球星 …\\', \\'We’ve got you covered. Lee Sang-hyeok is widely considered one of the greatest League of Legends players of all time. With news that Razer is partnering with the GOAT to produce his own line of peripherals, including mice, mousepads, and cell phone cases, Esports.gg is looking back at his career and finding seven of the most interesting …\\', \\'Web他在板球盛行的英联邦国家影响巨大，有研究者通过标准偏差计算，认为他的主要数据高于其他球类运动goat，如他的场均得分难度相当于篮球运动员场均得43分，因此认为他是球类运动goat中的goat。\\', \\'GOAT，Greatest Of All Time（历史最伟大），是一个项目中对于一名运动的至臻褒奖。 然而因为近年来NBA的火爆，特别是媒体的渲染，似乎这成了NBA的专属名词，但如果将他的维度拉高，你会发现在他之外还有一个FIBA世界。\\', \"WebGOAT has a lot of factors to consider, highest peak, consistency and achievements. Rookie\\'s achievements aren\\'t special, like he\\'s won less titles than ShowMaker. The gap between Faker and Rookie in the goat conversation is MASSIVE. Rookie isn\\'t even the goat of the LPL let alone league.\", \\'WebGOAT之争极其激烈的五大体育项目. 浪斌. Always day 1. GOAT，即Greatest of all time，意为历史最佳。. 在体育领域之中，该词汇时常被用来指代对应项目的历史第一人。. 能在GOAT上坐稳，意味着该选手的伟大程度远远超越了其余好手。. 在不少热门项目之中，GOAT是暂且 ...\\', \\'GOAT（ Greatest Of All Time ）是近期大家關注的名詞，代表著史上最偉大球員之意，隨著時代的演進，有無數扛起球隊勝敗重任於一身的知名球星足以擠進 GOAT 候選之列，而最為人信服的，莫過於「籃球之神」 Michael Jordan 。. Jordan 是 90 年代制霸 NBA 的超級巨星，手握 ...\\', \\'WebHowever, you can not deny that Faker is THE GOAT of League of Legends. This man is the Babe Ruth, The Michael Jordan, The Lionel Messi, The Tom Brady of league of legends. Faker started in his first match in season 3, AND WON WORLDS. They didn’t make it to worlds in season 4, however they did WIN THE NEXT TWO YEARS.\\', \\'Web而在勒布朗的世界中，超越乔丹成为“goat”，绝不只是冠军数量的问题。比乔丹冠军多的球员一大把，比乔丹得分多的人也不是没有。要超越乔丹，他必须累积惊人的社会影响力和商业能量。\\']']]}\n"
     ]
    }
   ],
   "source": [
    "print(chain.invoke({\n",
    "  \"input\": {\n",
    "    \"input\": ask\n",
    "  },\n",
    "  \"config\": {},\n",
    "  \"kwargs\": {}\n",
    "}))"
   ]
  },
  {
   "cell_type": "code",
   "execution_count": 17,
   "metadata": {},
   "outputs": [
    {
     "name": "stdout",
     "output_type": "stream",
     "text": [
      "<bound method RemoteRunnable.stream of <langserve.client.RemoteRunnable object at 0x000001882E11FB20>>\n"
     ]
    }
   ],
   "source": [
    "\n",
    "from langserve import RemoteRunnable\n",
    "ask='英雄联盟界的GOAT是谁'\n",
    "chain = RemoteRunnable(\"http://localhost:8000/agent/c/N4XyA\")\n",
    "chain.stream({\n",
    "  \"input\": {\n",
    "    \"input\": ask\n",
    "  },\n",
    "  \"config\": {},\n",
    "  \"kwargs\": {}\n",
    "})\n",
    "print(chain.stream)"
   ]
  },
  {
   "cell_type": "code",
   "execution_count": 12,
   "metadata": {},
   "outputs": [
    {
     "data": {
      "text/plain": [
       "AIMessage(content='Why did the None cross the road?\\n\\nBecause there was nothing on the other side!')"
      ]
     },
     "execution_count": 12,
     "metadata": {},
     "output_type": "execute_result"
    }
   ],
   "source": [
    "from langserve import RemoteRunnable\n",
    "ask='苏联'\n",
    "\n",
    "chain = RemoteRunnable(\"http://localhost:8000/joke/c/N4XyA\")\n",
    "chain.invoke({ \n",
    "  \"input\": {\n",
    "    \"topic\": \"苏联\"\n",
    "  },\n",
    "  \"config\": {},\n",
    "  \"kwargs\": {},\n",
    "})"
   ]
  }
 ],
 "metadata": {
  "kernelspec": {
   "display_name": "fastapi",
   "language": "python",
   "name": "python3"
  },
  "language_info": {
   "codemirror_mode": {
    "name": "ipython",
    "version": 3
   },
   "file_extension": ".py",
   "mimetype": "text/x-python",
   "name": "python",
   "nbconvert_exporter": "python",
   "pygments_lexer": "ipython3",
   "version": "3.10.13"
  }
 },
 "nbformat": 4,
 "nbformat_minor": 2
}
