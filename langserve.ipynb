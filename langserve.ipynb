{
 "cells": [
  {
   "cell_type": "code",
   "execution_count": 13,
   "metadata": {},
   "outputs": [
    {
     "data": {
      "text/plain": [
       "{'output': '2023年英雄联盟S赛冠军是T1战队。',\n",
       " 'intermediate_steps': [[AgentAction(tool='Search', tool_input=\"'2023英雄联盟S赛冠军'\", log=\" 我应该思考如何获得正确的答案\\nAction: Search\\nAction Input: '2023英雄联盟S赛冠军'\"),\n",
       "   '2023英雄联盟全球总决2023年10月10日至11月19日在韩国举办的以《 英雄联盟 》为比赛项目的国际电子竞技赛事。 2023年11月19日，由LCK赛区的T1战队3:0战胜LPL赛区的WBG战队夺得本次全球总决赛冠军 ， Zeus 夺得FMVP 。']]}"
      ]
     },
     "execution_count": 13,
     "metadata": {},
     "output_type": "execute_result"
    }
   ],
   "source": [
    "from langserve import RemoteRunnable\n",
    "ask='英雄联盟界的GOAT是谁'\n",
    "chain = RemoteRunnable(\"http://localhost:8000/agent/c/N4XyA\")\n",
    "chain.invoke({\n",
    "  \"input\": {\n",
    "    \"input\": \"2023英雄联盟S赛冠军是哪只战队\"\n",
    "  },\n",
    "  \"config\": {},\n",
    "  \"kwargs\": {}\n",
    "})"
   ]
  },
  {
   "cell_type": "code",
   "execution_count": 14,
   "metadata": {},
   "outputs": [
    {
     "data": {
      "text/plain": [
       "{'output': '英雄联盟界的GOAT是Faker。',\n",
       " 'intermediate_steps': [[AgentAction(tool='Search', tool_input=\"'英雄联盟界的GOAT是谁'\", log=\" 我应该搜索一下这个问题\\nAction: Search\\nAction Input: '英雄联盟界的GOAT是谁'\"),\n",
       "   '[\\'GOAT，顾名思义，Greatest of All Time（历史最佳）。. 随着詹姆斯愈老愈妖，他与乔丹的GOAT之争愈演愈烈。. 什么是GOAT？. 老詹自封历史最佳，乔丹：这是对传奇的不尊重！. 人常说：不想当将军的士兵不是好士兵。. 在NBA这片战场，想当超级球星 …\\', \\'We’ve got you covered. Lee Sang-hyeok is widely considered one of the greatest League of Legends players of all time. With news that Razer is partnering with the GOAT to produce his own line of peripherals, including mice, mousepads, and cell phone cases, Esports.gg is looking back at his career and finding seven of the most interesting …\\', \\'Web他在板球盛行的英联邦国家影响巨大，有研究者通过标准偏差计算，认为他的主要数据高于其他球类运动goat，如他的场均得分难度相当于篮球运动员场均得43分，因此认为他是球类运动goat中的goat。\\', \\'GOAT，Greatest Of All Time（历史最伟大），是一个项目中对于一名运动的至臻褒奖。 然而因为近年来NBA的火爆，特别是媒体的渲染，似乎这成了NBA的专属名词，但如果将他的维度拉高，你会发现在他之外还有一个FIBA世界。\\', \"WebGOAT has a lot of factors to consider, highest peak, consistency and achievements. Rookie\\'s achievements aren\\'t special, like he\\'s won less titles than ShowMaker. The gap between Faker and Rookie in the goat conversation is MASSIVE. Rookie isn\\'t even the goat of the LPL let alone league.\", \\'WebGOAT之争极其激烈的五大体育项目. 浪斌. Always day 1. GOAT，即Greatest of all time，意为历史最佳。. 在体育领域之中，该词汇时常被用来指代对应项目的历史第一人。. 能在GOAT上坐稳，意味着该选手的伟大程度远远超越了其余好手。. 在不少热门项目之中，GOAT是暂且 ...\\', \\'GOAT（ Greatest Of All Time ）是近期大家關注的名詞，代表著史上最偉大球員之意，隨著時代的演進，有無數扛起球隊勝敗重任於一身的知名球星足以擠進 GOAT 候選之列，而最為人信服的，莫過於「籃球之神」 Michael Jordan 。. Jordan 是 90 年代制霸 NBA 的超級巨星，手握 ...\\', \\'WebHowever, you can not deny that Faker is THE GOAT of League of Legends. This man is the Babe Ruth, The Michael Jordan, The Lionel Messi, The Tom Brady of league of legends. Faker started in his first match in season 3, AND WON WORLDS. They didn’t make it to worlds in season 4, however they did WIN THE NEXT TWO YEARS.\\', \\'Web而在勒布朗的世界中，超越乔丹成为“goat”，绝不只是冠军数量的问题。比乔丹冠军多的球员一大把，比乔丹得分多的人也不是没有。要超越乔丹，他必须累积惊人的社会影响力和商业能量。\\']'],\n",
       "  [AgentAction(tool='Search', tool_input=\"'英雄联盟界的GOAT是谁'\", log=\" 我应该把这些观察结果综合起来，找出最后的答案\\nAction: Search\\nAction Input: '英雄联盟界的GOAT是谁'\"),\n",
       "   '[\\'GOAT，顾名思义，Greatest of All Time（历史最佳）。. 随着詹姆斯愈老愈妖，他与乔丹的GOAT之争愈演愈烈。. 什么是GOAT？. 老詹自封历史最佳，乔丹：这是对传奇的不尊重！. 人常说：不想当将军的士兵不是好士兵。. 在NBA这片战场，想当超级球星 …\\', \\'We’ve got you covered. Lee Sang-hyeok is widely considered one of the greatest League of Legends players of all time. With news that Razer is partnering with the GOAT to produce his own line of peripherals, including mice, mousepads, and cell phone cases, Esports.gg is looking back at his career and finding seven of the most interesting …\\', \\'Web他在板球盛行的英联邦国家影响巨大，有研究者通过标准偏差计算，认为他的主要数据高于其他球类运动goat，如他的场均得分难度相当于篮球运动员场均得43分，因此认为他是球类运动goat中的goat。\\', \\'GOAT，Greatest Of All Time（历史最伟大），是一个项目中对于一名运动的至臻褒奖。 然而因为近年来NBA的火爆，特别是媒体的渲染，似乎这成了NBA的专属名词，但如果将他的维度拉高，你会发现在他之外还有一个FIBA世界。\\', \"WebGOAT has a lot of factors to consider, highest peak, consistency and achievements. Rookie\\'s achievements aren\\'t special, like he\\'s won less titles than ShowMaker. The gap between Faker and Rookie in the goat conversation is MASSIVE. Rookie isn\\'t even the goat of the LPL let alone league.\", \\'WebGOAT之争极其激烈的五大体育项目. 浪斌. Always day 1. GOAT，即Greatest of all time，意为历史最佳。. 在体育领域之中，该词汇时常被用来指代对应项目的历史第一人。. 能在GOAT上坐稳，意味着该选手的伟大程度远远超越了其余好手。. 在不少热门项目之中，GOAT是暂且 ...\\', \\'GOAT（ Greatest Of All Time ）是近期大家關注的名詞，代表著史上最偉大球員之意，隨著時代的演進，有無數扛起球隊勝敗重任於一身的知名球星足以擠進 GOAT 候選之列，而最為人信服的，莫過於「籃球之神」 Michael Jordan 。. Jordan 是 90 年代制霸 NBA 的超級巨星，手握 ...\\', \\'WebHowever, you can not deny that Faker is THE GOAT of League of Legends. This man is the Babe Ruth, The Michael Jordan, The Lionel Messi, The Tom Brady of league of legends. Faker started in his first match in season 3, AND WON WORLDS. They didn’t make it to worlds in season 4, however they did WIN THE NEXT TWO YEARS.\\', \\'Web而在勒布朗的世界中，超越乔丹成为“goat”，绝不只是冠军数量的问题。比乔丹冠军多的球员一大把，比乔丹得分多的人也不是没有。要超越乔丹，他必须累积惊人的社会影响力和商业能量。\\']']]}"
      ]
     },
     "execution_count": 14,
     "metadata": {},
     "output_type": "execute_result"
    }
   ],
   "source": [
    "from langserve import RemoteRunnable\n",
    "ask='英雄联盟界的GOAT是谁'\n",
    "chain = RemoteRunnable(\"http://localhost:8000/agent/c/N4XyA\")\n",
    "chain.invoke({\n",
    "  \"input\": {\n",
    "    \"input\": ask\n",
    "  },\n",
    "  \"config\": {},\n",
    "  \"kwargs\": {}\n",
    "})"
   ]
  },
  {
   "cell_type": "code",
   "execution_count": 15,
   "metadata": {},
   "outputs": [
    {
     "name": "stdout",
     "output_type": "stream",
     "text": [
      "{'output': '李尚禹（Lee Sang-hyeok）被普遍认为是英雄联盟界有史以来最伟大的玩家之一。', 'intermediate_steps': [[AgentAction(tool='Search', tool_input=\"'英雄联盟界的GOAT是谁'\", log=\" 我应该搜索一下这个问题\\nAction: Search\\nAction Input: '英雄联盟界的GOAT是谁'\"), '[\\'GOAT，顾名思义，Greatest of All Time（历史最佳）。. 随着詹姆斯愈老愈妖，他与乔丹的GOAT之争愈演愈烈。. 什么是GOAT？. 老詹自封历史最佳，乔丹：这是对传奇的不尊重！. 人常说：不想当将军的士兵不是好士兵。. 在NBA这片战场，想当超级球星 …\\', \\'We’ve got you covered. Lee Sang-hyeok is widely considered one of the greatest League of Legends players of all time. With news that Razer is partnering with the GOAT to produce his own line of peripherals, including mice, mousepads, and cell phone cases, Esports.gg is looking back at his career and finding seven of the most interesting …\\', \\'Web他在板球盛行的英联邦国家影响巨大，有研究者通过标准偏差计算，认为他的主要数据高于其他球类运动goat，如他的场均得分难度相当于篮球运动员场均得43分，因此认为他是球类运动goat中的goat。\\', \\'GOAT，Greatest Of All Time（历史最伟大），是一个项目中对于一名运动的至臻褒奖。 然而因为近年来NBA的火爆，特别是媒体的渲染，似乎这成了NBA的专属名词，但如果将他的维度拉高，你会发现在他之外还有一个FIBA世界。\\', \"WebGOAT has a lot of factors to consider, highest peak, consistency and achievements. Rookie\\'s achievements aren\\'t special, like he\\'s won less titles than ShowMaker. The gap between Faker and Rookie in the goat conversation is MASSIVE. Rookie isn\\'t even the goat of the LPL let alone league.\", \\'WebGOAT之争极其激烈的五大体育项目. 浪斌. Always day 1. GOAT，即Greatest of all time，意为历史最佳。. 在体育领域之中，该词汇时常被用来指代对应项目的历史第一人。. 能在GOAT上坐稳，意味着该选手的伟大程度远远超越了其余好手。. 在不少热门项目之中，GOAT是暂且 ...\\', \\'GOAT（ Greatest Of All Time ）是近期大家關注的名詞，代表著史上最偉大球員之意，隨著時代的演進，有無數扛起球隊勝敗重任於一身的知名球星足以擠進 GOAT 候選之列，而最為人信服的，莫過於「籃球之神」 Michael Jordan 。. Jordan 是 90 年代制霸 NBA 的超級巨星，手握 ...\\', \\'WebHowever, you can not deny that Faker is THE GOAT of League of Legends. This man is the Babe Ruth, The Michael Jordan, The Lionel Messi, The Tom Brady of league of legends. Faker started in his first match in season 3, AND WON WORLDS. They didn’t make it to worlds in season 4, however they did WIN THE NEXT TWO YEARS.\\', \\'Web而在勒布朗的世界中，超越乔丹成为“goat”，绝不只是冠军数量的问题。比乔丹冠军多的球员一大把，比乔丹得分多的人也不是没有。要超越乔丹，他必须累积惊人的社会影响力和商业能量。\\']']]}\n"
     ]
    }
   ],
   "source": [
    "print(chain.invoke({\n",
    "  \"input\": {\n",
    "    \"input\": ask\n",
    "  },\n",
    "  \"config\": {},\n",
    "  \"kwargs\": {}\n",
    "}))"
   ]
  },
  {
   "cell_type": "code",
   "execution_count": 17,
   "metadata": {},
   "outputs": [
    {
     "name": "stdout",
     "output_type": "stream",
     "text": [
      "<bound method RemoteRunnable.stream of <langserve.client.RemoteRunnable object at 0x000001882E11FB20>>\n"
     ]
    }
   ],
   "source": [
    "\n",
    "from langserve import RemoteRunnable\n",
    "ask='英雄联盟界的GOAT是谁'\n",
    "chain = RemoteRunnable(\"http://localhost:8000/agent/c/N4XyA\")\n",
    "chain.stream({\n",
    "  \"input\": {\n",
    "    \"input\": ask\n",
    "  },\n",
    "  \"config\": {},\n",
    "  \"kwargs\": {}\n",
    "})\n",
    "print(chain.stream)"
   ]
  },
  {
   "cell_type": "code",
   "execution_count": 12,
   "metadata": {},
   "outputs": [
    {
     "data": {
      "text/plain": [
       "AIMessage(content='Why did the None cross the road?\\n\\nBecause there was nothing on the other side!')"
      ]
     },
     "execution_count": 12,
     "metadata": {},
     "output_type": "execute_result"
    }
   ],
   "source": [
    "from langserve import RemoteRunnable\n",
    "ask='苏联'\n",
    "\n",
    "chain = RemoteRunnable(\"http://localhost:8000/joke/c/N4XyA\")\n",
    "chain.invoke({ \n",
    "  \"input\": {\n",
    "    \"topic\": \"苏联\"\n",
    "  },\n",
    "  \"config\": {},\n",
    "  \"kwargs\": {},\n",
    "})"
   ]
  },
  {
   "cell_type": "code",
   "execution_count": 1,
   "metadata": {},
   "outputs": [
    {
     "data": {
      "text/plain": [
       "{'output': '玉米有32种虫害。',\n",
       " 'intermediate_steps': [[AgentAction(tool='Neo4j Chain', tool_input='玉米有几种虫害', log=' I need to use Neo4j Chain to answer this question.\\nAction: Neo4j Chain\\nAction Input: 玉米有几种虫害'),\n",
       "   [{'COUNT(虫害)': 32}]]]}"
      ]
     },
     "execution_count": 1,
     "metadata": {},
     "output_type": "execute_result"
    }
   ],
   "source": [
    "from langserve import RemoteRunnable\n",
    "\n",
    "chain = RemoteRunnable(\"http://localhost:8000/agent/c/N4XyA\")\n",
    "chain.invoke({\n",
    "  \"input\": {\n",
    "    \"input\": \"玉米有几种虫害\"\n",
    "  },\n",
    "  \"config\": {},\n",
    "  \"kwargs\": {}\n",
    "})"
   ]
  },
  {
   "cell_type": "code",
   "execution_count": 2,
   "metadata": {},
   "outputs": [
    {
     "data": {
      "text/plain": [
       "<generator object RemoteRunnable.stream at 0x0000025DB0DF3450>"
      ]
     },
     "execution_count": 2,
     "metadata": {},
     "output_type": "execute_result"
    }
   ],
   "source": [
    "chain.stream({\n",
    "  \"input\": {\n",
    "    \"input\": \"玉米有几种虫害\"\n",
    "  },\n",
    "  \"config\": {},\n",
    "  \"kwargs\": {}\n",
    "})"
   ]
  },
  {
   "cell_type": "code",
   "execution_count": 5,
   "metadata": {},
   "outputs": [
    {
     "name": "stdout",
     "output_type": "stream",
     "text": [
      "{'input': {'input': '乔丹有几个总冠军'}, 'output': '乔丹共有6次总冠军', 'intermediate_steps': [[AgentAction(tool='Search', tool_input='乔丹总冠军', log=' 我需要搜索一下乔丹的总冠军数量\\nAction: Search\\nAction Input: 乔丹总冠军'), '1996-98赛季，<b>乔丹</b>荣膺个人职业生涯第10次（共10次）NBA得分王以及第5次（共5次）常规赛MVP，并再次率领公牛队3夺（共6次）NBA<b>总冠军</b>，自己当选共第6次<b>总</b>决赛MVP。']]}\n"
     ]
    }
   ],
   "source": [
    "stream_generator = chain.stream({\n",
    "  \"input\": {\n",
    "    \"input\": \"乔丹有几个总冠军\"\n",
    "  },\n",
    "  \"config\": {},\n",
    "  \"kwargs\": {}\n",
    "})\n",
    "\n",
    "for value in stream_generator:\n",
    "    print(value)"
   ]
  },
  {
   "cell_type": "code",
   "execution_count": 6,
   "metadata": {},
   "outputs": [
    {
     "data": {
      "text/plain": [
       "{'output': '玉米有32种虫害。',\n",
       " 'intermediate_steps': [[AgentAction(tool='Neo4j Chain', tool_input='玉米有几种虫害', log=' I need to use Neo4j Chain to answer this question.\\nAction: Neo4j Chain\\nAction Input: 玉米有几种虫害'),\n",
       "   [{'COUNT(虫害)': 32}]]]}"
      ]
     },
     "execution_count": 6,
     "metadata": {},
     "output_type": "execute_result"
    }
   ],
   "source": [
    "from langserve import RemoteRunnable\n",
    "\n",
    "chain = RemoteRunnable(\"http://192.168.0.112:9999/agent/c/N4XyA\")\n",
    "chain.invoke({\n",
    "  \"input\": {\n",
    "    \"input\": \"玉米有几种虫害\"\n",
    "  },\n",
    "  \"config\": {},\n",
    "  \"kwargs\": {}\n",
    "})"
   ]
  },
  {
   "cell_type": "code",
   "execution_count": 22,
   "metadata": {},
   "outputs": [
    {
     "data": {
      "text/plain": [
       "{'output': '玉米有32种虫害。',\n",
       " 'intermediate_steps': [[AgentAction(tool='Neo4j Chain', tool_input='玉米有几种虫害', log=' I need to use Neo4j Chain to answer this question.\\nAction: Neo4j Chain\\nAction Input: 玉米有几种虫害'),\n",
       "   [{'COUNT(虫害)': 32}]]]}"
      ]
     },
     "execution_count": 22,
     "metadata": {},
     "output_type": "execute_result"
    }
   ],
   "source": [
    "from langserve import RemoteRunnable\n",
    "\n",
    "chain = RemoteRunnable(\"http://kgapi.v5.idcfengye.com/agent/c/N4XyA\")\n",
    "chain.invoke({\n",
    "  \"input\": {\n",
    "    \"input\": \"玉米有几种虫害\"\n",
    "  },\n",
    "  \"config\": {},\n",
    "  \"kwargs\": {}\n",
    "})"
   ]
  },
  {
   "cell_type": "code",
   "execution_count": 24,
   "metadata": {},
   "outputs": [
    {
     "data": {
      "text/plain": [
       "{'output': '根据观察，西安最好的大学是西安交通大学或西北大学。',\n",
       " 'intermediate_steps': [[AgentAction(tool='Search', tool_input=\"'西安最好的大学'\", log=\" I need to find out which university is the best in Xi'an\\nAction: Search\\nAction Input: '西安最好的大学'\"),\n",
       "   '<b>西安</b>市<b>好大学</b>很多有2所985高校，分别是： <b>西安</b>交通<b>大学</b>和西北工业<b>大学</b>； 有7所211<b>大学</b>，分别是： <b>西安</b>交通<b>大学</b>、西北工业<b>大学</b>、空军军医<b>大学</b>、<b>西安</b>电子科技<b>大学</b>、西北<b>大学</b>、陕西师范<b>大学</b>、西北<b>大学</b>、长安<b>大学</b>。 除此之外，<b>西安</b>市也有不少<b>好</b>学校，比如<b>西安</b>建筑科技<b>大学</b>，是“建筑老八校”之一，很多大建筑公司只招“建筑老八校”成员<b>的</b>学生。 高考即将来临，假如你在备战高考，必将是一场恶战，不过高考过后并没有风平浪静，填报志愿也需谨慎，无论是选学校还是选专业都有技巧。 希望它能帮你挑选出适合自己<b>的</b>高校和专业，祝考上理想<b>的大学</b>！ 对于<b>西安</b>市<b>最好大学</b>排名，你有什么不同看法？ 欢迎留言讨论~ 发布于 2020-07-03 03:49 西北<b>大学</b>（中国） <b>西安</b>交通<b>大学</b> <b>西安</b>市是陕西省<b>的</b>省会，也是我国西北部<b>的</b>中心城市。']]}"
      ]
     },
     "execution_count": 24,
     "metadata": {},
     "output_type": "execute_result"
    }
   ],
   "source": [
    "from langserve import RemoteRunnable\n",
    "\n",
    "chain = RemoteRunnable(\"http://kgapi.v5.idcfengye.com/agent/c/N4XyA\")\n",
    "chain.invoke({\n",
    "  \"input\": {\n",
    "    \"input\": \"西安最好的大学\"\n",
    "  },\n",
    "  \"config\": {},\n",
    "  \"kwargs\": {}\n",
    "})"
   ]
  },
  {
   "cell_type": "code",
   "execution_count": 27,
   "metadata": {},
   "outputs": [
    {
     "data": {
      "text/plain": [
       "{'output': '西安最好的大学是西安交通大学和西北大学。',\n",
       " 'intermediate_steps': [[AgentAction(tool='Search', tool_input=\"'西安最好的大学'\", log=\" I need to find out which university is the best in Xi'an\\nAction: Search\\nAction Input: '西安最好的大学'\"),\n",
       "   '<b>西安</b>市<b>好大学</b>很多有2所985高校，分别是： <b>西安</b>交通<b>大学</b>和西北工业<b>大学</b>； 有7所211<b>大学</b>，分别是： <b>西安</b>交通<b>大学</b>、西北工业<b>大学</b>、空军军医<b>大学</b>、<b>西安</b>电子科技<b>大学</b>、西北<b>大学</b>、陕西师范<b>大学</b>、西北<b>大学</b>、长安<b>大学</b>。 除此之外，<b>西安</b>市也有不少<b>好</b>学校，比如<b>西安</b>建筑科技<b>大学</b>，是“建筑老八校”之一，很多大建筑公司只招“建筑老八校”成员<b>的</b>学生。 高考即将来临，假如你在备战高考，必将是一场恶战，不过高考过后并没有风平浪静，填报志愿也需谨慎，无论是选学校还是选专业都有技巧。 希望它能帮你挑选出适合自己<b>的</b>高校和专业，祝考上理想<b>的大学</b>！ 对于<b>西安</b>市<b>最好大学</b>排名，你有什么不同看法？ 欢迎留言讨论~ 发布于 2020-07-03 03:49 西北<b>大学</b>（中国） <b>西安</b>交通<b>大学</b> <b>西安</b>市是陕西省<b>的</b>省会，也是我国西北部<b>的</b>中心城市。']]}"
      ]
     },
     "execution_count": 27,
     "metadata": {},
     "output_type": "execute_result"
    }
   ],
   "source": [
    "from langserve import RemoteRunnable\n",
    "\n",
    "chain = RemoteRunnable(\"http://kgapi.v5.idcfengye.com/agent/c/N4XyA\")\n",
    "chain.invoke({\n",
    "  \"input\": {\n",
    "    \"input\": \"西安最好的大学\"\n",
    "  },\n",
    "  \"config\": {},\n",
    "  \"kwargs\": {}\n",
    "})"
   ]
  },
  {
   "cell_type": "code",
   "execution_count": 28,
   "metadata": {},
   "outputs": [
    {
     "data": {
      "text/plain": [
       "{'output': '根据2023年ABC中国大学排名，西安最好的大学是西安交通大学，排名全国第11、西安第1。',\n",
       " 'intermediate_steps': [[AgentAction(tool='Search', tool_input=\"'西安最好的大学'\", log=\" I need to find out which university is the best in Xi'an\\nAction: Search\\nAction Input: '西安最好的大学'\"),\n",
       "   \"['... 大学并不是非常了解，因此今天就为大家介绍陕西最好的十所大学。 第一西安交通大学. 西安交通大学大家应该都是知道的，它可以说是陕西最好的大学。它 ...', '... 大学的数量，西安排全国第4名；按照全国排名全国前100名的大学数量，西安排名全国第5名。 西安最好的10大名校有：西安交通大学、西北工业大学、长安大学 ...', '西安市十大名校排行榜西安最好的十所大学西安市最出名的高校 · 清华大学 · 北京大学 · 浙江大学 · 上海交通大学 · 复旦大学 · 南京大学 · 中国科学技术大学 · 中国人民大学.', '从校友会2023陕西省大学排名来看，西安交通大学全省排名第一，全国排名第14位，是西安市乃至陕西省最好的大学。 根据陕西省教育考试院公布的2023年招录情况，老师整理出了陕西高校在西安文科、理科一批次的投档情况。 其中文科投档分最高的是西安交通大学，为607分；理科投档分最高的依然是西 ...', '陕西高校: 第一档:西交大(A类)，西工大(B类). 第二档:西电. 第三档:长安大，西北大，陕师大，四医大，西农(杨凌). 第四档:西建大，西理工.', '西安最让人向往的10所大学 · 西安交通大学 · 西北工业大学 · 西安电子科技大学 · 空军军医大学 · 西北农林科技大学 · 西北大学 · 陕西师范大学 · 长安大学.', '其中，西安交通大学、西北工业大学、西安电子科技大学居西安市高校前3名，分别居全国高校第11名、第24名、第37名，是西安市实力最强的大学。', '排名结果显示，陕西省共上榜35所。 西安交通大学位居全国第11、陕西第1，西北工业大学位居全国第24、陕西第2，西安电子科技大学位居全国第37、陕西第3，其余上榜高校分别为西北农林科技大学、陕西师范大学、西北大学、长安大学、西安理工大学等。', '校友会2023陕西省大学最好学科排名，西安交通大学第一 ; 1. 西安交通大学. 38 ; 2. 西北大学. 32 ; 3. 西北工业大学. 31 ; 4. 陕西师范大学. 30.', '西安欧亚学院、西安培华学院、兰州工商学院、西安外事学院、西安翻译学院位列2021校友会西北地区最好民办大学排名前五强。 在最新2021中国最好高职院校 ...']\"],\n",
       "  [AgentAction(tool='Search', tool_input=\"'西安最好的大学排名'\", log=\" I need to find the best university in Xi'an from the search results\\nAction: Search\\nAction Input: '西安最好的大学排名'\"),\n",
       "   '近日，2023年ABC中国大学排名于中国大学排行榜官网(CNUR)发布。 排名结果显示，2023年西安市大学排名为：西安交通大学排名全国第11、西安第1，西北工业大学排名全国第24、西安第2，西安电子科技大学排名全国第37、西安第3，其余上榜高校分别为陕西师范大学、西北大学、长安大学、西安理工大学、西安建筑科技大学等。']]}"
      ]
     },
     "execution_count": 28,
     "metadata": {},
     "output_type": "execute_result"
    }
   ],
   "source": [
    "from langserve import RemoteRunnable\n",
    "\n",
    "chain = RemoteRunnable(\"http://kgapi.v5.idcfengye.com/agent/c/N4XyA\")\n",
    "chain.invoke({\n",
    "  \"input\": {\n",
    "    \"input\": \"西安最好的大学\"\n",
    "  },\n",
    "  \"config\": {},\n",
    "  \"kwargs\": {}\n",
    "})"
   ]
  },
  {
   "cell_type": "code",
   "execution_count": 26,
   "metadata": {},
   "outputs": [
    {
     "data": {
      "text/plain": [
       "{'output': '根据上述描述，西安最好的大学是西安交通大学和西北工业大学。',\n",
       " 'intermediate_steps': [[AgentAction(tool='Search', tool_input=\"'西安最好的大学'\", log=\" I should use Search to find the answer\\nAction: Search\\nAction Input: '西安最好的大学'\"),\n",
       "   '<b>西安</b>市<b>好大学</b>很多有2所985高校，分别是： <b>西安</b>交通<b>大学</b>和西北工业<b>大学</b>； 有7所211<b>大学</b>，分别是： <b>西安</b>交通<b>大学</b>、西北工业<b>大学</b>、空军军医<b>大学</b>、<b>西安</b>电子科技<b>大学</b>、西北<b>大学</b>、陕西师范<b>大学</b>、西北<b>大学</b>、长安<b>大学</b>。 除此之外，<b>西安</b>市也有不少<b>好</b>学校，比如<b>西安</b>建筑科技<b>大学</b>，是“建筑老八校”之一，很多大建筑公司只招“建筑老八校”成员<b>的</b>学生。 高考即将来临，假如你在备战高考，必将是一场恶战，不过高考过后并没有风平浪静，填报志愿也需谨慎，无论是选学校还是选专业都有技巧。 希望它能帮你挑选出适合自己<b>的</b>高校和专业，祝考上理想<b>的大学</b>！ 对于<b>西安</b>市<b>最好大学</b>排名，你有什么不同看法？ 欢迎留言讨论~ 发布于 2020-07-03 03:49 西北<b>大学</b>（中国） <b>西安</b>交通<b>大学</b> <b>西安</b>市是陕西省<b>的</b>省会，也是我国西北部<b>的</b>中心城市。']]}"
      ]
     },
     "execution_count": 26,
     "metadata": {},
     "output_type": "execute_result"
    }
   ],
   "source": [
    "from langserve import RemoteRunnable\n",
    "\n",
    "chain = RemoteRunnable(\"http://kgapi.v5.idcfengye.com/agent/c/N4XyA\")\n",
    "chain.invoke({\n",
    "  \"input\": {\n",
    "    \"input\": \"西安最好的大学是西电吗\"\n",
    "  },\n",
    "  \"config\": {},\n",
    "  \"kwargs\": {}\n",
    "})"
   ]
  },
  {
   "cell_type": "code",
   "execution_count": 7,
   "metadata": {},
   "outputs": [],
   "source": [
    "answer=chain.invoke({\n",
    "  \"input\": {\n",
    "    \"input\": \"玉米有几种虫害\"\n",
    "  },\n",
    "  \"config\": {},\n",
    "  \"kwargs\": {}\n",
    "})"
   ]
  },
  {
   "cell_type": "code",
   "execution_count": 20,
   "metadata": {},
   "outputs": [
    {
     "name": "stdout",
     "output_type": "stream",
     "text": [
      "玉米有32种虫害。\n",
      "\n",
      "[[AgentAction(tool='Neo4j Chain', tool_input='玉米有几种虫害', log=' I need to use Neo4j Chain to answer this question.\\nAction: Neo4j Chain\\nAction Input: 玉米有几种虫害'), [{'COUNT(虫害)': 32}]]]\n",
      "\n",
      "[AgentAction(tool='Neo4j Chain', tool_input='玉米有几种虫害', log=' I need to use Neo4j Chain to answer this question.\\nAction: Neo4j Chain\\nAction Input: 玉米有几种虫害'), [{'COUNT(虫害)': 32}]]\n",
      "\n",
      "tool='Neo4j Chain' tool_input='玉米有几种虫害' log=' I need to use Neo4j Chain to answer this question.\\nAction: Neo4j Chain\\nAction Input: 玉米有几种虫害'\n",
      "\n",
      "[{'COUNT(虫害)': 32}]\n"
     ]
    }
   ],
   "source": [
    "print(answer['output'])\n",
    "print()\n",
    "print(answer['intermediate_steps'])\n",
    "print()\n",
    "print(answer['intermediate_steps'][0])\n",
    "print()\n",
    "print(answer['intermediate_steps'][0][0])\n",
    "print()\n",
    "print(answer['intermediate_steps'][0][1])"
   ]
  }
 ],
 "metadata": {
  "kernelspec": {
   "display_name": "fastapi",
   "language": "python",
   "name": "python3"
  },
  "language_info": {
   "codemirror_mode": {
    "name": "ipython",
    "version": 3
   },
   "file_extension": ".py",
   "mimetype": "text/x-python",
   "name": "python",
   "nbconvert_exporter": "python",
   "pygments_lexer": "ipython3",
   "version": "3.10.12"
  }
 },
 "nbformat": 4,
 "nbformat_minor": 2
}
